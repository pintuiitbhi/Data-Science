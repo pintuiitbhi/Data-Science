{
 "cells": [
  {
   "cell_type": "markdown",
   "metadata": {},
   "source": [
    "# <a id=\"1\">1. Import the libraries  </a>"
   ]
  },
  {
   "cell_type": "code",
   "execution_count": 1,
   "metadata": {},
   "outputs": [],
   "source": [
    "import numpy as np \n",
    "import pandas as pd\n",
    "import time\n",
    "import sys\n",
    "import seaborn as sns # to plot graph\n",
    "import matplotlib.pyplot as plt #to plot graph\n",
    "from sklearn import preprocessing #to scale and do encoding\n",
    "from sklearn.preprocessing import StandardScaler\n",
    "from sklearn import metrics\n",
    "from sklearn.metrics import accuracy_score\n",
    "\n",
    "from sklearn.svm import LinearSVC, SVC\n",
    "import timeit"
   ]
  },
  {
   "cell_type": "markdown",
   "metadata": {},
   "source": [
    "# <a id=\"2\">2. Import  the data </a>"
   ]
  },
  {
   "cell_type": "code",
   "execution_count": 2,
   "metadata": {},
   "outputs": [],
   "source": [
    "df_train = pd.read_csv('train.csv')\n",
    "df_train = df_train.sample(frac=1).reset_index(drop=True)# shuffle\n",
    "#display(df_train.head())\n",
    "#print(df_train.shape)\n",
    "\n",
    "df_test = pd.read_csv('test.csv')\n",
    "df_test = df_test.sample(frac=1).reset_index(drop=True)# shuffle\n",
    "#display(df_test.head())\n",
    "#print(df_test.shape)"
   ]
  },
  {
   "cell_type": "code",
   "execution_count": 3,
   "metadata": {},
   "outputs": [
    {
     "data": {
      "text/plain": [
       "(42000, 784)"
      ]
     },
     "execution_count": 3,
     "metadata": {},
     "output_type": "execute_result"
    }
   ],
   "source": [
    "y_train = df_train['label'].values\n",
    "X_train = df_train.drop(['label'], axis=1)\n",
    "X_train.shape"
   ]
  },
  {
   "cell_type": "code",
   "execution_count": 4,
   "metadata": {},
   "outputs": [],
   "source": [
    "# print(X_train)\n",
    "y_test = df_test['7'].values\n",
    "X_test = df_test.drop(['7'], axis=1)"
   ]
  },
  {
   "cell_type": "markdown",
   "metadata": {},
   "source": [
    "# <a id=\"3\">3. Visualizing  the data </a>"
   ]
  },
  {
   "cell_type": "markdown",
   "metadata": {},
   "source": [
    "Each image is 28 pixels in height and 28 pixels in width, for a total of 784 pixels in total. Each pixel has a single pixel-value associated with it, indicating the lightness or darkness of that pixel, with higher numbers meaning darker. This pixel-value is an integer between 0 and 255, inclusive.\n",
    "\n",
    "The data set, has 785 columns. The first column, called \"label\", is the digit that was drawn by the user. The rest of the columns contain the pixel-values of the associated image.\n"
   ]
  },
  {
   "cell_type": "markdown",
   "metadata": {},
   "source": [
    "Let's now see how many columns are of type numerical, categorical and object type."
   ]
  },
  {
   "cell_type": "code",
   "execution_count": 5,
   "metadata": {},
   "outputs": [
    {
     "data": {
      "text/html": [
       "<div>\n",
       "<style scoped>\n",
       "    .dataframe tbody tr th:only-of-type {\n",
       "        vertical-align: middle;\n",
       "    }\n",
       "\n",
       "    .dataframe tbody tr th {\n",
       "        vertical-align: top;\n",
       "    }\n",
       "\n",
       "    .dataframe thead th {\n",
       "        text-align: right;\n",
       "    }\n",
       "</style>\n",
       "<table border=\"1\" class=\"dataframe\">\n",
       "  <thead>\n",
       "    <tr style=\"text-align: right;\">\n",
       "      <th></th>\n",
       "      <th>Column Type</th>\n",
       "      <th>Count</th>\n",
       "    </tr>\n",
       "  </thead>\n",
       "  <tbody>\n",
       "    <tr>\n",
       "      <th>0</th>\n",
       "      <td>int64</td>\n",
       "      <td>785</td>\n",
       "    </tr>\n",
       "  </tbody>\n",
       "</table>\n",
       "</div>"
      ],
      "text/plain": [
       "  Column Type  Count\n",
       "0       int64    785"
      ]
     },
     "execution_count": 5,
     "metadata": {},
     "output_type": "execute_result"
    }
   ],
   "source": [
    "# measuring datatype count training data\n",
    "dtype_data_tr =df_train.dtypes.reset_index()\n",
    "dtype_data_tr.columns = [\"Count\", \"Column Type\"]\n",
    "dtype_data_tr.groupby(\"Column Type\").aggregate('count').reset_index()"
   ]
  },
  {
   "cell_type": "code",
   "execution_count": 6,
   "metadata": {},
   "outputs": [
    {
     "data": {
      "text/html": [
       "<div>\n",
       "<style scoped>\n",
       "    .dataframe tbody tr th:only-of-type {\n",
       "        vertical-align: middle;\n",
       "    }\n",
       "\n",
       "    .dataframe tbody tr th {\n",
       "        vertical-align: top;\n",
       "    }\n",
       "\n",
       "    .dataframe thead th {\n",
       "        text-align: right;\n",
       "    }\n",
       "</style>\n",
       "<table border=\"1\" class=\"dataframe\">\n",
       "  <thead>\n",
       "    <tr style=\"text-align: right;\">\n",
       "      <th></th>\n",
       "      <th>Column Type</th>\n",
       "      <th>Count</th>\n",
       "    </tr>\n",
       "  </thead>\n",
       "  <tbody>\n",
       "    <tr>\n",
       "      <th>0</th>\n",
       "      <td>int64</td>\n",
       "      <td>785</td>\n",
       "    </tr>\n",
       "  </tbody>\n",
       "</table>\n",
       "</div>"
      ],
      "text/plain": [
       "  Column Type  Count\n",
       "0       int64    785"
      ]
     },
     "execution_count": 6,
     "metadata": {},
     "output_type": "execute_result"
    }
   ],
   "source": [
    "# measuring datatype count test data\n",
    "dtype_data_ts =df_test.dtypes.reset_index()\n",
    "dtype_data_ts.columns = [\"Count\", \"Column Type\"]\n",
    "dtype_data_ts.groupby(\"Column Type\").aggregate('count').reset_index()"
   ]
  },
  {
   "cell_type": "code",
   "execution_count": 7,
   "metadata": {},
   "outputs": [
    {
     "data": {
      "text/plain": [
       "Text(0.5, 1.0, 'Count of each class in Training Data')"
      ]
     },
     "execution_count": 7,
     "metadata": {},
     "output_type": "execute_result"
    },
    {
     "data": {
      "image/png": "[encoded data removed]",
      "text/plain": [
       "<Figure size 432x288 with 1 Axes>"
      ]
     },
     "metadata": {},
     "output_type": "display_data"
    }
   ],
   "source": [
    "ax = sns.countplot(x=\"label\", data=df_train)\n",
    "ax.set_title('Count of each class in Training Data')"
   ]
  },
  {
   "cell_type": "code",
   "execution_count": 8,
   "metadata": {},
   "outputs": [
    {
     "data": {
      "text/plain": [
       "Text(0.5, 1.0, 'Count of each class in Test Data')"
      ]
     },
     "execution_count": 8,
     "metadata": {},
     "output_type": "execute_result"
    },
    {
     "data": {
      "image/png": "[encoded data removed]",
      "text/plain": [
       "<Figure size 432x288 with 1 Axes>"
      ]
     },
     "metadata": {},
     "output_type": "display_data"
    }
   ],
   "source": [
    "ax = sns.countplot(x=\"7\", data=df_test)\n",
    "ax.set_title('Count of each class in Test Data')"
   ]
  },
  {
   "cell_type": "markdown",
   "metadata": {},
   "source": [
    "# <a id=\"4\">4. SVC Classifier</a>"
   ]
  },
  {
   "cell_type": "markdown",
   "metadata": {},
   "source": [
    "To speed up the training process the features must be scaled down, for that purpose we use Standard Scaler. The training is then done on the scaled dataset. "
   ]
  },
  {
   "cell_type": "markdown",
   "metadata": {},
   "source": [
    "<h2> Training the model and determining accuracy </h2>"
   ]
  },
  {
   "cell_type": "code",
   "execution_count": null,
   "metadata": {},
   "outputs": [
    {
     "name": "stdout",
     "output_type": "stream",
     "text": [
      "Creating Model.....\n",
      "Training.....\n",
      "[LibSVM]"
     ]
    }
   ],
   "source": [
    "start = time.time()\n",
    "print(\"Creating Model.....\")\n",
    "clf_svc = SVC(kernel='linear', verbose=True, C=1.0)\n",
    "print(\"Training.....\")\n",
    "clf_svc.fit(StandardScaler().fit_transform(X_train), y_train)\n",
    "end = time.time()\n",
    "print(\"Predicting.....\")\n",
    "y_pred_svc = clf_svc.predict(StandardScaler().fit_transform(X_test))\n",
    "acc_svc = accuracy_score(y_test, y_pred_svc)\n",
    "print(\"Linear SVC accuracy: \",acc_svc)\n",
    "print(\"Training time: \",end-start)"
   ]
  },
  {
   "cell_type": "markdown",
   "metadata": {},
   "source": [
    "<h2>Number of updates 'k' required for convergence </h2>"
   ]
  },
  {
   "cell_type": "markdown",
   "metadata": {},
   "source": [
    "To get the number of iterations/updates first we have to turn verbose = 'True' \n",
    "This results a total of 45 outputs each showing the number of iterations required for convergence of each Hyperplane.\n",
    "The sum of the no. of iterations required for convergence of each Hyperplane gives the no.of updates/iterations k required for convergence of the SVM classifier.\n",
    "(All the 45 outputs are given in the text file output.txt)"
   ]
  },
  {
   "cell_type": "markdown",
   "metadata": {},
   "source": [
    "### Confusion Matrix"
   ]
  },
  {
   "cell_type": "code",
   "execution_count": null,
   "metadata": {},
   "outputs": [],
   "source": [
    "from sklearn.metrics import confusion_matrix\n",
    "import itertools\n",
    "class_names = ['0','1','2','3','4','5','6','7','8','9']\n",
    "def plot_confusion_matrix(cm, classes,\n",
    "                          normalize=False,\n",
    "                          title='Confusion matrix',\n",
    "                          cmap=plt.cm.Blues):\n",
    "    \"\"\"\n",
    "    This function prints and plots the confusion matrix.\n",
    "    Normalization can be applied by setting `normalize=True`.\n",
    "    \"\"\"\n",
    "    if normalize:\n",
    "        cm = cm.astype('float') / cm.sum(axis=1)[:, np.newaxis]\n",
    "        print(\"Normalized confusion matrix\")\n",
    "    else:\n",
    "        print('Confusion matrix, without normalization')\n",
    "\n",
    "    print(cm)\n",
    "\n",
    "    plt.imshow(cm, interpolation='nearest', cmap=cmap)\n",
    "    plt.title(title)\n",
    "    plt.colorbar()\n",
    "    tick_marks = np.arange(len(classes))\n",
    "    plt.xticks(tick_marks, classes, rotation=45)\n",
    "    plt.yticks(tick_marks, classes)\n",
    "\n",
    "    fmt = '.2f' if normalize else 'd'\n",
    "    thresh = cm.max() / 2.\n",
    "    for i, j in itertools.product(range(cm.shape[0]), range(cm.shape[1])):\n",
    "        plt.text(j, i, format(cm[i, j], fmt),\n",
    "                 horizontalalignment=\"center\",\n",
    "                 color=\"white\" if cm[i, j] > thresh else \"black\")\n",
    "\n",
    "    plt.tight_layout()\n",
    "    plt.ylabel('True label')\n",
    "    plt.xlabel('Predicted label')\n",
    "\n",
    "# Compute confusion matrix\n",
    "cnf_matrix = confusion_matrix(y_test, y_pred_svc)\n",
    "np.set_printoptions(precision=2)\n",
    "\n",
    "# Plot non-normalized confusion matrix\n",
    "plt.figure()\n",
    "plot_confusion_matrix(cnf_matrix, classes=class_names,\n",
    "                      title='Confusion matrix, without normalization')\n",
    "\n",
    "# Plot normalized confusion matrix\n",
    "plt.figure()\n",
    "plot_confusion_matrix(cnf_matrix, classes=class_names, normalize=True,\n",
    "                      title='Normalized confusion matrix')\n",
    "\n",
    "plt.show()"
   ]
  },
  {
   "cell_type": "markdown",
   "metadata": {},
   "source": [
    "<h2>Classification Report</h2>"
   ]
  },
  {
   "cell_type": "code",
   "execution_count": null,
   "metadata": {},
   "outputs": [],
   "source": [
    "from sklearn.metrics import classification_report\n",
    "print(classification_report(y_test, y_pred_svc))"
   ]
  },
  {
   "cell_type": "markdown",
   "metadata": {},
   "source": [
    "<h2>Tuning the Model </h2>"
   ]
  },
  {
   "cell_type": "code",
   "execution_count": null,
   "metadata": {},
   "outputs": [],
   "source": [
    "# from sklearn.grid_search import GridSearchCV\n",
    "# from time import time\n",
    "# from operator import itemgetter\n",
    "\n",
    "# def report(grid_scores, n_top=3):\n",
    "#     top_scores = sorted(grid_scores, key=itemgetter(1), reverse=True)[:n_top]\n",
    "#     for i, score in enumerate(top_scores):\n",
    "#         print(\"Model with rank: {0}\".format(i + 1))\n",
    "#         print(\"Mean validation score: {0:.3f} (std: {1:.3f})\".format(\n",
    "#               score.mean_validation_score,\n",
    "#               np.std(score.cv_validation_scores)))\n",
    "#         print(\"Parameters: {0}\\n\".format(score.parameters))\n",
    " \n",
    "\n",
    "# params = {\n",
    "#     'C': (np.arange(0.001,1,0.1))\n",
    "#             }\n",
    "\n",
    "# model = SVC(kernel='linear')\n",
    "# model_svm = GridSearchCV(model, param_grid=params)\n",
    "# start = time()\n",
    "# model_svm.fit(X_train, y_train)\n",
    "# print(\"GridSearchCV took %.2f seconds for %d candidate parameter settings.\"\n",
    "#       % (time() - start, len(model_svm.grid_scores_)))\n",
    "# report(model_svm.grid_scores_)"
   ]
  },
  {
   "cell_type": "code",
   "execution_count": null,
   "metadata": {},
   "outputs": [],
   "source": [
    "# C = list((np.arange(0.001,1,0.1)))\n",
    "# scores = []\n",
    "# for c in C:\n",
    "#     model = SVC(kernel='linear', C=c)\n",
    "#     model.fit(X_train, y_train)\n",
    "#     scores.append(model.score(X_test, y_test))\n",
    "\n",
    "# plt.title(\"Effect of C\")\n",
    "# plt.xlabel(\"C\")\n",
    "# plt.ylabel(\"score\")\n",
    "# plt.plot(C, scores) "
   ]
  },
  {
   "cell_type": "code",
   "execution_count": null,
   "metadata": {},
   "outputs": [],
   "source": [
    "# print(\"Best Score: {:.3f}\".format(model_svm.best_score_))"
   ]
  },
  {
   "cell_type": "code",
   "execution_count": null,
   "metadata": {},
   "outputs": [],
   "source": [
    "# print(model_svm.best_params_)"
   ]
  },
  {
   "cell_type": "code",
   "execution_count": null,
   "metadata": {},
   "outputs": [],
   "source": [
    "# from sklearn.cross_validation import cross_val_score\n",
    "# svc=SVC(kernel='linear',C=0.001)\n",
    "# scores = cross_val_score(svc, X_train, , cv=10, scoring='accuracy') #cv is cross validation\n",
    "# print(scores)"
   ]
  },
  {
   "cell_type": "code",
   "execution_count": null,
   "metadata": {},
   "outputs": [],
   "source": [
    "# y_pred= model_svm.predict(X_test)\n",
    "# print(metrics.accuracy_score(y_pred,Y_test))\n",
    "\n",
    "# # Model Accuracy: how often is the classifier correct?\n",
    "# print(\"Accuracy: {:.2f}\".format(metrics.accuracy_score(Y_test, y_pred)))"
   ]
  },
  {
   "cell_type": "markdown",
   "metadata": {},
   "source": [
    "<h2>Determining the weights </h2>"
   ]
  },
  {
   "cell_type": "markdown",
   "metadata": {},
   "source": [
    "The weights obtained from clf.coef_ represent the vector coordinates which are orthogonal to the hyperplane and their direction indicates the predicted class"
   ]
  },
  {
   "cell_type": "code",
   "execution_count": null,
   "metadata": {},
   "outputs": [],
   "source": [
    "w = clf_svc.coef_\n",
    "b = clf_svc.intercept_\n",
    "print('w = ',w)\n",
    "np.savetxt('weights.txt', w, delimiter=',', header = \"Weight Matrix\")\n",
    "print('b = ',b)\n",
    "print('Indices of support vectors = ', clf_svc.support_)\n",
    "print('Support vectors = ', clf_svc.support_vectors_)\n",
    "print('Number of support vectors for each class = ', clf_svc.n_support_)\n",
    "print('Coefficients of the support vector in the decision function = ', np.abs(clf_svc.dual_coef_))"
   ]
  },
  {
   "cell_type": "markdown",
   "metadata": {},
   "source": [
    "<h2>Display of weights learned by Linear Marginal Classifier </h2>"
   ]
  },
  {
   "cell_type": "code",
   "execution_count": null,
   "metadata": {},
   "outputs": [],
   "source": [
    "Weights = clf_svc.coef_ + clf_svc.intercept_[:, np.newaxis]\n",
    "\n",
    "fig, axes = plt.subplots(9, 5, figsize=(15, 20))\n",
    "plt.suptitle(\"Weights Learned by Linear SVC\")\n",
    "cax = fig.add_axes([0.27, 0.92, 0.5, 0.03])\n",
    "\n",
    "i, j = 0, 1\n",
    "for weight, ax in zip(Weights, axes.ravel()):\n",
    "    weight = np.interp(weight, [np.min(weight), np.max(weight)], [-1, 1])\n",
    "    im = ax.imshow(weight.reshape(28, 28), interpolation='nearest', cmap=plt.get_cmap('coolwarm'))\n",
    "    ax.set_title(\"Digit {} vs Digit {}\".format(i, j))\n",
    "    ax.set_xticks(())\n",
    "    ax.set_yticks(())\n",
    "    j += 1\n",
    "    if j>9:\n",
    "        i += 1\n",
    "        j = i+1\n",
    "\n",
    "fig.colorbar(im, cax=cax, orientation='horizontal')\n",
    "plt.savefig('Waights.png', bbox_inches='tight')\n",
    "plt.show()"
   ]
  },
  {
   "cell_type": "markdown",
   "metadata": {},
   "source": [
    "<h2>Determining the margin </h2>"
   ]
  },
  {
   "cell_type": "code",
   "execution_count": null,
   "metadata": {},
   "outputs": [],
   "source": [
    "from numpy import linalg as la\n",
    "margin = 2.0/la.norm(w,axis=1)"
   ]
  },
  {
   "cell_type": "code",
   "execution_count": null,
   "metadata": {},
   "outputs": [],
   "source": [
    "print(margin)\n",
    "np.savetxt('margins.txt', margin, delimiter=',', header = \"Margin of the 45 classifiers\")"
   ]
  }
 ],
 "metadata": {
  "kernelspec": {
   "display_name": "Python 3",
   "language": "python",
   "name": "python3"
  },
  "language_info": {
   "codemirror_mode": {
    "name": "ipython",
    "version": 3
   },
   "file_extension": ".py",
   "mimetype": "text/x-python",
   "name": "python",
   "nbconvert_exporter": "python",
   "pygments_lexer": "ipython3",
   "version": "3.6.3"
  }
 },
 "nbformat": 4,
 "nbformat_minor": 2
}
