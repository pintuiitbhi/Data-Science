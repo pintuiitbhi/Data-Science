{
 "cells": [
  {
   "cell_type": "markdown",
   "metadata": {},
   "source": [
    "                                            IIT Bhilai\n",
    "                                         Assignment 2 (SVM)\n",
    "                                       Machine Learning CS550\n",
    "                                         \n",
    "          Group Member:\n",
    "                Akash Singh            || EE\n",
    "                Pintu Kumar            || EE\n",
    "                Ravikant Kumar         || CSE\n",
    "                Sidharth S Singh       || CSE"
   ]
  },
  {
   "cell_type": "markdown",
   "metadata": {},
   "source": [
    "(Click to navigate to particular section)\n",
    "\n",
    "## Overview:\n",
    "\n",
    "- <a href='#1'>1. Import the libraries </a>\n",
    "- <a href='#2'>2. Import the data </a>\n",
    "- <a href='#3'>3. Splitting of Dataset in Training and Test set </a>\n",
    "- <a href='#4'>4. SVC Classifier </a>\n",
    "  - <a href='#41'>4.1 Polynomial Kernel </a>\n",
    "  - <a href='#42'>4.2 Gaussian Kernel </a>\n",
    "  - <a href='#43'>4.3 Sigmoidal Kernel </a>"
   ]
  },
  {
   "cell_type": "markdown",
   "metadata": {
    "_uuid": "9eb4d6036b04f65456b6ba3e2b006d37ea9c37c8"
   },
   "source": [
    "# <a id=\"1\">1. Import the libraries  </a>"
   ]
  },
  {
   "cell_type": "code",
   "execution_count": 196,
   "metadata": {
    "_cell_guid": "b1076dfc-b9ad-4769-8c92-a6c4dae69d19",
    "_uuid": "8f2839f25d086af736a60e9eeb907d3b93b6e0e5"
   },
   "outputs": [],
   "source": [
    "import numpy as np \n",
    "import pandas as pd\n",
    "\n",
    "from sklearn import svm #Import svm model\n",
    "from sklearn.svm import SVC\n",
    "from sklearn import metrics #Import scikit-learn metrics module for accuracy calculation\n",
    "\n",
    "import seaborn as sns # to plot graph\n",
    "import matplotlib.pyplot as plt #to plot graph\n",
    "from sklearn.model_selection import train_test_split #to split the dataset\n",
    "\n",
    "from sklearn import preprocessing #to scale and do encoding\n",
    "from sklearn.preprocessing import MinMaxScaler  # for normalizing between 0 and 1\n",
    "\n",
    "from sklearn import decomposition\n",
    "from sklearn.model_selection import GridSearchCV\n",
    "\n",
    "from sklearn.metrics import classification_report\n",
    "from sklearn.metrics import accuracy_score, log_loss\n",
    "\n",
    "import warnings \n",
    "warnings.filterwarnings('ignore')\n",
    "%matplotlib inline"
   ]
  },
  {
   "cell_type": "markdown",
   "metadata": {
    "_uuid": "abc79fbee61a458968866f76862cba39dd456f77"
   },
   "source": [
    "# <a id=\"2\">2. Import  the data </a>"
   ]
  },
  {
   "cell_type": "code",
   "execution_count": 197,
   "metadata": {
    "_cell_guid": "79c7e3d0-c299-4dcb-8224-4455121ee9b0",
    "_uuid": "d629ff2d2480ee46fbb7e2d37f6b5fab8052498a"
   },
   "outputs": [
    {
     "data": {
      "text/html": [
       "<div>\n",
       "<table border=\"1\" class=\"dataframe\">\n",
       "  <thead>\n",
       "    <tr style=\"text-align: right;\">\n",
       "      <th></th>\n",
       "      <th>Id</th>\n",
       "      <th>SepalLengthCm</th>\n",
       "      <th>SepalWidthCm</th>\n",
       "      <th>PetalLengthCm</th>\n",
       "      <th>PetalWidthCm</th>\n",
       "      <th>Species</th>\n",
       "    </tr>\n",
       "  </thead>\n",
       "  <tbody>\n",
       "    <tr>\n",
       "      <th>0</th>\n",
       "      <td>139</td>\n",
       "      <td>6.0</td>\n",
       "      <td>3.0</td>\n",
       "      <td>4.8</td>\n",
       "      <td>1.8</td>\n",
       "      <td>Iris-virginica</td>\n",
       "    </tr>\n",
       "    <tr>\n",
       "      <th>1</th>\n",
       "      <td>123</td>\n",
       "      <td>7.7</td>\n",
       "      <td>2.8</td>\n",
       "      <td>6.7</td>\n",
       "      <td>2.0</td>\n",
       "      <td>Iris-virginica</td>\n",
       "    </tr>\n",
       "    <tr>\n",
       "      <th>2</th>\n",
       "      <td>8</td>\n",
       "      <td>5.0</td>\n",
       "      <td>3.4</td>\n",
       "      <td>1.5</td>\n",
       "      <td>0.2</td>\n",
       "      <td>Iris-setosa</td>\n",
       "    </tr>\n",
       "    <tr>\n",
       "      <th>3</th>\n",
       "      <td>142</td>\n",
       "      <td>6.9</td>\n",
       "      <td>3.1</td>\n",
       "      <td>5.1</td>\n",
       "      <td>2.3</td>\n",
       "      <td>Iris-virginica</td>\n",
       "    </tr>\n",
       "    <tr>\n",
       "      <th>4</th>\n",
       "      <td>117</td>\n",
       "      <td>6.5</td>\n",
       "      <td>3.0</td>\n",
       "      <td>5.5</td>\n",
       "      <td>1.8</td>\n",
       "      <td>Iris-virginica</td>\n",
       "    </tr>\n",
       "  </tbody>\n",
       "</table>\n",
       "</div>"
      ],
      "text/plain": [
       "    Id  SepalLengthCm  SepalWidthCm  PetalLengthCm  PetalWidthCm  \\\n",
       "0  139            6.0           3.0            4.8           1.8   \n",
       "1  123            7.7           2.8            6.7           2.0   \n",
       "2    8            5.0           3.4            1.5           0.2   \n",
       "3  142            6.9           3.1            5.1           2.3   \n",
       "4  117            6.5           3.0            5.5           1.8   \n",
       "\n",
       "          Species  \n",
       "0  Iris-virginica  \n",
       "1  Iris-virginica  \n",
       "2     Iris-setosa  \n",
       "3  Iris-virginica  \n",
       "4  Iris-virginica  "
      ]
     },
     "metadata": {},
     "output_type": "display_data"
    },
    {
     "name": "stdout",
     "output_type": "stream",
     "text": [
      "(150, 6)\n"
     ]
    }
   ],
   "source": [
    "df = pd.read_csv('Iris.csv')\n",
    "df= df.sample(frac=1).reset_index(drop=True)# shuffle\n",
    "display(df.head())\n",
    "print(df.shape)"
   ]
  },
  {
   "cell_type": "markdown",
   "metadata": {
    "_uuid": "5dfd1fe8b692631f40544502c6eb47da68e77af8"
   },
   "source": [
    "Let's now see how many columns are of type numerical, categorical and object type."
   ]
  },
  {
   "cell_type": "code",
   "execution_count": 198,
   "metadata": {
    "_uuid": "920f63009aa562d9850d65737c581695c1406dcc"
   },
   "outputs": [
    {
     "data": {
      "text/html": [
       "<div>\n",
       "<table border=\"1\" class=\"dataframe\">\n",
       "  <thead>\n",
       "    <tr style=\"text-align: right;\">\n",
       "      <th></th>\n",
       "      <th>Column Type</th>\n",
       "      <th>Count</th>\n",
       "    </tr>\n",
       "  </thead>\n",
       "  <tbody>\n",
       "    <tr>\n",
       "      <th>0</th>\n",
       "      <td>int64</td>\n",
       "      <td>1</td>\n",
       "    </tr>\n",
       "    <tr>\n",
       "      <th>1</th>\n",
       "      <td>float64</td>\n",
       "      <td>4</td>\n",
       "    </tr>\n",
       "    <tr>\n",
       "      <th>2</th>\n",
       "      <td>object</td>\n",
       "      <td>1</td>\n",
       "    </tr>\n",
       "  </tbody>\n",
       "</table>\n",
       "</div>"
      ],
      "text/plain": [
       "  Column Type  Count\n",
       "0       int64      1\n",
       "1     float64      4\n",
       "2      object      1"
      ]
     },
     "execution_count": 198,
     "metadata": {},
     "output_type": "execute_result"
    }
   ],
   "source": [
    "#measuring datatype count\n",
    "dtype_data =df.dtypes.reset_index()\n",
    "dtype_data.columns = [\"Count\", \"Column Type\"]\n",
    "dtype_data.groupby(\"Column Type\").aggregate('count').reset_index()\n"
   ]
  },
  {
   "cell_type": "markdown",
   "metadata": {
    "_uuid": "ff644d30b2fb8997c1c6e5ceea704ba2cb464e59"
   },
   "source": [
    "## Check for Null values"
   ]
  },
  {
   "cell_type": "code",
   "execution_count": 199,
   "metadata": {
    "_uuid": "e142f49330f2c2c1c2543ae7350690d051c82c33"
   },
   "outputs": [
    {
     "data": {
      "text/plain": [
       "Id               0\n",
       "SepalLengthCm    0\n",
       "SepalWidthCm     0\n",
       "PetalLengthCm    0\n",
       "PetalWidthCm     0\n",
       "Species          0\n",
       "dtype: int64"
      ]
     },
     "execution_count": 199,
     "metadata": {},
     "output_type": "execute_result"
    }
   ],
   "source": [
    "df.isnull().sum()"
   ]
  },
  {
   "cell_type": "code",
   "execution_count": 200,
   "metadata": {
    "_uuid": "7a40f804eb1ed1e0c0cb28e62e339731e9e56a53"
   },
   "outputs": [
    {
     "data": {
      "image/png": "[encoded data removed]",
      "text/plain": [
       "<matplotlib.figure.Figure at 0x7f45354d75f8>"
      ]
     },
     "metadata": {},
     "output_type": "display_data"
    }
   ],
   "source": [
    "ax = sns.countplot(x=\"Species\", data=df)"
   ]
  },
  {
   "cell_type": "markdown",
   "metadata": {
    "_uuid": "ab9da348eaf8ab828511b30855839cbb1dc21cab"
   },
   "source": [
    "# <a id=\"3\">3.  Splitting of Dataset in Training and Test set</a>"
   ]
  },
  {
   "cell_type": "code",
   "execution_count": 201,
   "metadata": {
    "_uuid": "db567100b07172154a0207f5626d4146412b4630"
   },
   "outputs": [
    {
     "data": {
      "text/html": [
       "<div>\n",
       "<table border=\"1\" class=\"dataframe\">\n",
       "  <thead>\n",
       "    <tr style=\"text-align: right;\">\n",
       "      <th></th>\n",
       "      <th>SepalLengthCm</th>\n",
       "      <th>SepalWidthCm</th>\n",
       "      <th>PetalLengthCm</th>\n",
       "      <th>PetalWidthCm</th>\n",
       "    </tr>\n",
       "  </thead>\n",
       "  <tbody>\n",
       "    <tr>\n",
       "      <th>0</th>\n",
       "      <td>6.0</td>\n",
       "      <td>3.0</td>\n",
       "      <td>4.8</td>\n",
       "      <td>1.8</td>\n",
       "    </tr>\n",
       "    <tr>\n",
       "      <th>1</th>\n",
       "      <td>7.7</td>\n",
       "      <td>2.8</td>\n",
       "      <td>6.7</td>\n",
       "      <td>2.0</td>\n",
       "    </tr>\n",
       "    <tr>\n",
       "      <th>2</th>\n",
       "      <td>5.0</td>\n",
       "      <td>3.4</td>\n",
       "      <td>1.5</td>\n",
       "      <td>0.2</td>\n",
       "    </tr>\n",
       "    <tr>\n",
       "      <th>3</th>\n",
       "      <td>6.9</td>\n",
       "      <td>3.1</td>\n",
       "      <td>5.1</td>\n",
       "      <td>2.3</td>\n",
       "    </tr>\n",
       "    <tr>\n",
       "      <th>4</th>\n",
       "      <td>6.5</td>\n",
       "      <td>3.0</td>\n",
       "      <td>5.5</td>\n",
       "      <td>1.8</td>\n",
       "    </tr>\n",
       "  </tbody>\n",
       "</table>\n",
       "</div>"
      ],
      "text/plain": [
       "   SepalLengthCm  SepalWidthCm  PetalLengthCm  PetalWidthCm\n",
       "0            6.0           3.0            4.8           1.8\n",
       "1            7.7           2.8            6.7           2.0\n",
       "2            5.0           3.4            1.5           0.2\n",
       "3            6.9           3.1            5.1           2.3\n",
       "4            6.5           3.0            5.5           1.8"
      ]
     },
     "execution_count": 201,
     "metadata": {},
     "output_type": "execute_result"
    }
   ],
   "source": [
    "# Separating features and labels\n",
    "label=df['Species']\n",
    "#del df['label']\n",
    "#df.head()\n",
    "#X=df.iloc[:, :-1]\n",
    "temp= df.iloc[:, 1:]\n",
    "X=df.iloc[:, 1:-1]\n",
    "X.head()"
   ]
  },
  {
   "cell_type": "code",
   "execution_count": 202,
   "metadata": {
    "_uuid": "9111c65ac23622f0fed52be389a31f4c949c2cfd"
   },
   "outputs": [],
   "source": [
    "# # Scale the data to be between -1 and 1\n",
    "# from sklearn.preprocessing import StandardScaler\n",
    "# scaler = StandardScaler()\n",
    "# scaler.fit(X)\n",
    "# X = scaler.transform(X)\n",
    "# X.head()"
   ]
  },
  {
   "cell_type": "markdown",
   "metadata": {
    "_uuid": "58cb786be92621cdfde5a16575cf8cff6671e6cc"
   },
   "source": [
    "### Correlation among features"
   ]
  },
  {
   "cell_type": "code",
   "execution_count": 203,
   "metadata": {
    "_uuid": "b3d5e28e4641bd9abf0c02926fe15a1215db5249"
   },
   "outputs": [
    {
     "data": {
      "text/html": [
       "<div>\n",
       "<table border=\"1\" class=\"dataframe\">\n",
       "  <thead>\n",
       "    <tr style=\"text-align: right;\">\n",
       "      <th></th>\n",
       "      <th>SepalLengthCm</th>\n",
       "      <th>SepalWidthCm</th>\n",
       "      <th>PetalLengthCm</th>\n",
       "      <th>PetalWidthCm</th>\n",
       "    </tr>\n",
       "  </thead>\n",
       "  <tbody>\n",
       "    <tr>\n",
       "      <th>SepalLengthCm</th>\n",
       "      <td>1.000000</td>\n",
       "      <td>-0.109369</td>\n",
       "      <td>0.871754</td>\n",
       "      <td>0.817954</td>\n",
       "    </tr>\n",
       "    <tr>\n",
       "      <th>SepalWidthCm</th>\n",
       "      <td>-0.109369</td>\n",
       "      <td>1.000000</td>\n",
       "      <td>-0.420516</td>\n",
       "      <td>-0.356544</td>\n",
       "    </tr>\n",
       "    <tr>\n",
       "      <th>PetalLengthCm</th>\n",
       "      <td>0.871754</td>\n",
       "      <td>-0.420516</td>\n",
       "      <td>1.000000</td>\n",
       "      <td>0.962757</td>\n",
       "    </tr>\n",
       "    <tr>\n",
       "      <th>PetalWidthCm</th>\n",
       "      <td>0.817954</td>\n",
       "      <td>-0.356544</td>\n",
       "      <td>0.962757</td>\n",
       "      <td>1.000000</td>\n",
       "    </tr>\n",
       "  </tbody>\n",
       "</table>\n",
       "</div>"
      ],
      "text/plain": [
       "               SepalLengthCm  SepalWidthCm  PetalLengthCm  PetalWidthCm\n",
       "SepalLengthCm       1.000000     -0.109369       0.871754      0.817954\n",
       "SepalWidthCm       -0.109369      1.000000      -0.420516     -0.356544\n",
       "PetalLengthCm       0.871754     -0.420516       1.000000      0.962757\n",
       "PetalWidthCm        0.817954     -0.356544       0.962757      1.000000"
      ]
     },
     "execution_count": 203,
     "metadata": {},
     "output_type": "execute_result"
    }
   ],
   "source": [
    "temp.corr()"
   ]
  },
  {
   "cell_type": "code",
   "execution_count": 204,
   "metadata": {
    "_uuid": "cb8a3a9f5c4432989252da224c773e7a2d956bc8"
   },
   "outputs": [],
   "source": [
    "X_train, X_test, Y_train, Y_test = train_test_split(X, \n",
    "                                                    label, \n",
    "                                                    shuffle=True,\n",
    "                                                    stratify=label,\n",
    "                                                    test_size=0.2 ,\n",
    "                                                    random_state=1)"
   ]
  },
  {
   "cell_type": "markdown",
   "metadata": {
    "_uuid": "f89fd6108c8e0ab9921fe0a7ebc969a0bdbd9d5f"
   },
   "source": [
    "Each class has **50 samples** each in the dataset. On using** stratification** and **test_size = 0.2** in ** train_test_split** creates test size **X_test** with **10 samples** for each class."
   ]
  },
  {
   "cell_type": "markdown",
   "metadata": {
    "_uuid": "eb5e97b679b766ec81925b18248a5477c757893d"
   },
   "source": [
    "# <a id=\"4\">4.  SVC Classifier</a>"
   ]
  },
  {
   "cell_type": "code",
   "execution_count": 205,
   "metadata": {
    "_uuid": "f2ab12d163a74b25354dad428a55a21da701986a"
   },
   "outputs": [
    {
     "name": "stdout",
     "output_type": "stream",
     "text": [
      "Accuracy Score:\n",
      "1.0\n"
     ]
    }
   ],
   "source": [
    "from sklearn.svm import SVC\n",
    "from sklearn import metrics\n",
    "svc=SVC(kernel='poly')\n",
    "svc.fit(X_train,Y_train)\n",
    "y_pred=svc.predict(X_test)\n",
    "print('Accuracy Score:')\n",
    "print(metrics.accuracy_score(Y_test,y_pred))"
   ]
  },
  {
   "cell_type": "markdown",
   "metadata": {},
   "source": [
    "On training the data using default parameter, we get accuracy = 93 %"
   ]
  },
  {
   "cell_type": "markdown",
   "metadata": {
    "_uuid": "dfa7bb654e68e189be582d09f69f655e6db35124"
   },
   "source": [
    "## <a id=\"41\">4.1 Polynomial kernel </a>"
   ]
  },
  {
   "cell_type": "code",
   "execution_count": 206,
   "metadata": {
    "_uuid": "cb8d5c5c175e8c5faaebdd74ba9226efef4d81b9"
   },
   "outputs": [
    {
     "name": "stdout",
     "output_type": "stream",
     "text": [
      "[1.         1.         0.86666667 0.93333333 1.         1.\n",
      " 1.         1.         1.         1.        ]\n"
     ]
    }
   ],
   "source": [
    "from sklearn.cross_validation import cross_val_score\n",
    "svc=SVC(kernel='poly')\n",
    "scores = cross_val_score(svc, X, label, cv=10, scoring='accuracy') #cv is cross validation\n",
    "print(scores)"
   ]
  },
  {
   "cell_type": "code",
   "execution_count": 207,
   "metadata": {
    "_uuid": "1ceb5799dc155a184b055e274ce2b4f23e7c1484"
   },
   "outputs": [
    {
     "name": "stdout",
     "output_type": "stream",
     "text": [
      "Mean accuracy :0.98\n"
     ]
    }
   ],
   "source": [
    "print(\"Mean accuracy :{:.2f}\".format(scores.mean()))"
   ]
  },
  {
   "cell_type": "markdown",
   "metadata": {},
   "source": [
    "Mean accuracy of cross validation using default parameter of polynomial kernel is equal to 97%"
   ]
  },
  {
   "cell_type": "markdown",
   "metadata": {
    "_uuid": "0db763d4a5088615956ec3c5cbc869701ad57baf"
   },
   "source": [
    "### Taking polynomial kernel with different degree"
   ]
  },
  {
   "cell_type": "code",
   "execution_count": 208,
   "metadata": {
    "_uuid": "f6f49c450f9685690b3d2c49509a2ff01270a0ab"
   },
   "outputs": [
    {
     "name": "stdout",
     "output_type": "stream",
     "text": [
      "[0.95, 0.95, 0.94]\n"
     ]
    }
   ],
   "source": [
    "degree=[4,5,8]\n",
    "acc_score=[]\n",
    "for d in degree:\n",
    "    svc = SVC(kernel='poly', degree=d)\n",
    "    scores = cross_val_score(svc, X, label, cv=10, scoring='accuracy')\n",
    "    acc_score.append(round(scores.mean(),2))\n",
    "print(acc_score) "
   ]
  },
  {
   "cell_type": "code",
   "execution_count": 209,
   "metadata": {
    "_uuid": "3a3cb1dfba47341cfe8a560aa77e21b4c00ec88e"
   },
   "outputs": [
    {
     "data": {
      "text/plain": [
       "Text(0,0.5,'Cross-Validated Accuracy')"
      ]
     },
     "execution_count": 209,
     "metadata": {},
     "output_type": "execute_result"
    },
    {
     "data": {
      "image/png": "[encoded data removed]",
      "text/plain": [
       "<matplotlib.figure.Figure at 0x7f4535638d30>"
      ]
     },
     "metadata": {},
     "output_type": "display_data"
    }
   ],
   "source": [
    "\n",
    "degree=[4,5,8]\n",
    "\n",
    "# plot the value of C for SVM (x-axis) versus the cross-validated accuracy (y-axis)\n",
    "plt.plot(degree,acc_score,color='r')\n",
    "plt.xlabel('degrees for SVC ')\n",
    "plt.ylabel('Cross-Validated Accuracy')"
   ]
  },
  {
   "cell_type": "markdown",
   "metadata": {
    "_uuid": "eb44516bc5620ba5cff871b0665ce554813325b5"
   },
   "source": [
    "Score is high for 4 degree polynomial and then there is drop in the accuracy score as degree of polynomial increases."
   ]
  },
  {
   "cell_type": "markdown",
   "metadata": {
    "_uuid": "fad337a48032de110110785f447eb24baf9cb46c"
   },
   "source": [
    "### Now performing SVM by taking hyperparameter degree=4 and kernel as poly"
   ]
  },
  {
   "cell_type": "code",
   "execution_count": 210,
   "metadata": {
    "_uuid": "2c5a8a5ce8279739d9a977f5f7ed476d48bd8bae"
   },
   "outputs": [
    {
     "name": "stdout",
     "output_type": "stream",
     "text": [
      "1.0\n"
     ]
    }
   ],
   "source": [
    "from sklearn.svm import SVC\n",
    "svc= SVC(kernel='poly',degree=4)\n",
    "svc.fit(X_train,Y_train)\n",
    "y_predict=svc.predict(X_test)\n",
    "accuracy_score= metrics.accuracy_score(Y_test,y_predict)\n",
    "print(accuracy_score)"
   ]
  },
  {
   "cell_type": "code",
   "execution_count": 211,
   "metadata": {
    "_uuid": "9135f733faa76afd18e67fb616c2ed39e9b1613e"
   },
   "outputs": [
    {
     "name": "stdout",
     "output_type": "stream",
     "text": [
      "[1.         0.93333333 0.86666667 0.86666667 1.         1.\n",
      " 1.         0.86666667 0.93333333 1.        ]\n",
      "0.9466666666666667\n"
     ]
    }
   ],
   "source": [
    "svc=SVC(kernel='poly',degree=4)\n",
    "scores = cross_val_score(svc, X, label, cv=10, scoring='accuracy')\n",
    "print(scores)\n",
    "print(scores.mean())"
   ]
  },
  {
   "cell_type": "markdown",
   "metadata": {
    "_uuid": "974ab953ab6ba3dabd951360df8768d11723540d"
   },
   "source": [
    "### Let us perform Grid search technique to find the best parameter"
   ]
  },
  {
   "cell_type": "code",
   "execution_count": 212,
   "metadata": {
    "_uuid": "d3a3d9edfef7c96521fb2bbf5df66cb8ce25f6ae"
   },
   "outputs": [],
   "source": [
    "from sklearn.svm import SVC\n",
    "svm_model= SVC()"
   ]
  },
  {
   "cell_type": "code",
   "execution_count": 213,
   "metadata": {
    "_uuid": "1d69a21d9ba26d87680977ca2cb4d26beeb2d2af"
   },
   "outputs": [],
   "source": [
    "tuned_parameters = {\n",
    " 'degree': [4,5,6] ,'gamma':[0.01,0.02,0.03,0.04,0.05], 'C':(np.arange(0.1,1,0.1)) , 'kernel':['poly']\n",
    "                   }"
   ]
  },
  {
   "cell_type": "code",
   "execution_count": 214,
   "metadata": {
    "_uuid": "ead7d27e748a92bf489320103f7403fce596ad28"
   },
   "outputs": [],
   "source": [
    "from sklearn.grid_search import GridSearchCV\n",
    "\n",
    "model_svm = GridSearchCV(svm_model, tuned_parameters,cv=10,scoring='accuracy')"
   ]
  },
  {
   "cell_type": "code",
   "execution_count": 215,
   "metadata": {
    "_uuid": "1df3918aa4f7acd8a98439adfb09a7a31d254b34"
   },
   "outputs": [
    {
     "name": "stdout",
     "output_type": "stream",
     "text": [
      "0.9666666666666667\n"
     ]
    }
   ],
   "source": [
    "model_svm.fit(X_train, Y_train)\n",
    "print(model_svm.best_score_)"
   ]
  },
  {
   "cell_type": "code",
   "execution_count": 216,
   "metadata": {
    "_uuid": "23f76dec0027138e0c5eef11d0f5d3c324f4e1de"
   },
   "outputs": [
    {
     "name": "stdout",
     "output_type": "stream",
     "text": [
      "[mean: 0.64167, std: 0.09895, params: {'C': 0.1, 'degree': 4, 'gamma': 0.01, 'kernel': 'poly'}, mean: 0.86667, std: 0.10000, params: {'C': 0.1, 'degree': 4, 'gamma': 0.02, 'kernel': 'poly'}, mean: 0.95000, std: 0.05528, params: {'C': 0.1, 'degree': 4, 'gamma': 0.03, 'kernel': 'poly'}, mean: 0.95000, std: 0.07638, params: {'C': 0.1, 'degree': 4, 'gamma': 0.04, 'kernel': 'poly'}, mean: 0.95833, std: 0.05590, params: {'C': 0.1, 'degree': 4, 'gamma': 0.05, 'kernel': 'poly'}, mean: 0.59167, std: 0.08700, params: {'C': 0.1, 'degree': 5, 'gamma': 0.01, 'kernel': 'poly'}, mean: 0.87500, std: 0.09317, params: {'C': 0.1, 'degree': 5, 'gamma': 0.02, 'kernel': 'poly'}, mean: 0.94167, std: 0.07500, params: {'C': 0.1, 'degree': 5, 'gamma': 0.03, 'kernel': 'poly'}, mean: 0.95833, std: 0.05590, params: {'C': 0.1, 'degree': 5, 'gamma': 0.04, 'kernel': 'poly'}, mean: 0.95000, std: 0.06667, params: {'C': 0.1, 'degree': 5, 'gamma': 0.05, 'kernel': 'poly'}, mean: 0.56667, std: 0.08975, params: {'C': 0.1, 'degree': 6, 'gamma': 0.01, 'kernel': 'poly'}, mean: 0.90000, std: 0.08165, params: {'C': 0.1, 'degree': 6, 'gamma': 0.02, 'kernel': 'poly'}, mean: 0.93333, std: 0.07265, params: {'C': 0.1, 'degree': 6, 'gamma': 0.03, 'kernel': 'poly'}, mean: 0.94167, std: 0.08375, params: {'C': 0.1, 'degree': 6, 'gamma': 0.04, 'kernel': 'poly'}, mean: 0.94167, std: 0.08375, params: {'C': 0.1, 'degree': 6, 'gamma': 0.05, 'kernel': 'poly'}, mean: 0.70000, std: 0.10672, params: {'C': 0.2, 'degree': 4, 'gamma': 0.01, 'kernel': 'poly'}, mean: 0.88333, std: 0.10000, params: {'C': 0.2, 'degree': 4, 'gamma': 0.02, 'kernel': 'poly'}, mean: 0.95833, std: 0.07683, params: {'C': 0.2, 'degree': 4, 'gamma': 0.03, 'kernel': 'poly'}, mean: 0.95833, std: 0.05590, params: {'C': 0.2, 'degree': 4, 'gamma': 0.04, 'kernel': 'poly'}, mean: 0.95000, std: 0.07638, params: {'C': 0.2, 'degree': 4, 'gamma': 0.05, 'kernel': 'poly'}, mean: 0.65833, std: 0.12047, params: {'C': 0.2, 'degree': 5, 'gamma': 0.01, 'kernel': 'poly'}, mean: 0.90000, std: 0.08165, params: {'C': 0.2, 'degree': 5, 'gamma': 0.02, 'kernel': 'poly'}, mean: 0.95000, std: 0.06667, params: {'C': 0.2, 'degree': 5, 'gamma': 0.03, 'kernel': 'poly'}, mean: 0.95833, std: 0.05590, params: {'C': 0.2, 'degree': 5, 'gamma': 0.04, 'kernel': 'poly'}, mean: 0.94167, std: 0.08375, params: {'C': 0.2, 'degree': 5, 'gamma': 0.05, 'kernel': 'poly'}, mean: 0.63333, std: 0.10672, params: {'C': 0.2, 'degree': 6, 'gamma': 0.01, 'kernel': 'poly'}, mean: 0.90833, std: 0.06922, params: {'C': 0.2, 'degree': 6, 'gamma': 0.02, 'kernel': 'poly'}, mean: 0.94167, std: 0.07500, params: {'C': 0.2, 'degree': 6, 'gamma': 0.03, 'kernel': 'poly'}, mean: 0.94167, std: 0.08375, params: {'C': 0.2, 'degree': 6, 'gamma': 0.04, 'kernel': 'poly'}, mean: 0.94167, std: 0.07500, params: {'C': 0.2, 'degree': 6, 'gamma': 0.05, 'kernel': 'poly'}, mean: 0.72500, std: 0.10574, params: {'C': 0.30000000000000004, 'degree': 4, 'gamma': 0.01, 'kernel': 'poly'}, mean: 0.89167, std: 0.08375, params: {'C': 0.30000000000000004, 'degree': 4, 'gamma': 0.02, 'kernel': 'poly'}, mean: 0.95000, std: 0.07638, params: {'C': 0.30000000000000004, 'degree': 4, 'gamma': 0.03, 'kernel': 'poly'}, mean: 0.95833, std: 0.05590, params: {'C': 0.30000000000000004, 'degree': 4, 'gamma': 0.04, 'kernel': 'poly'}, mean: 0.95833, std: 0.05590, params: {'C': 0.30000000000000004, 'degree': 4, 'gamma': 0.05, 'kernel': 'poly'}, mean: 0.70000, std: 0.10672, params: {'C': 0.30000000000000004, 'degree': 5, 'gamma': 0.01, 'kernel': 'poly'}, mean: 0.90833, std: 0.06922, params: {'C': 0.30000000000000004, 'degree': 5, 'gamma': 0.02, 'kernel': 'poly'}, mean: 0.95833, std: 0.05590, params: {'C': 0.30000000000000004, 'degree': 5, 'gamma': 0.03, 'kernel': 'poly'}, mean: 0.95000, std: 0.06667, params: {'C': 0.30000000000000004, 'degree': 5, 'gamma': 0.04, 'kernel': 'poly'}, mean: 0.95000, std: 0.07638, params: {'C': 0.30000000000000004, 'degree': 5, 'gamma': 0.05, 'kernel': 'poly'}, mean: 0.67500, std: 0.10172, params: {'C': 0.30000000000000004, 'degree': 6, 'gamma': 0.01, 'kernel': 'poly'}, mean: 0.92500, std: 0.06922, params: {'C': 0.30000000000000004, 'degree': 6, 'gamma': 0.02, 'kernel': 'poly'}, mean: 0.95000, std: 0.06667, params: {'C': 0.30000000000000004, 'degree': 6, 'gamma': 0.03, 'kernel': 'poly'}, mean: 0.94167, std: 0.08375, params: {'C': 0.30000000000000004, 'degree': 6, 'gamma': 0.04, 'kernel': 'poly'}, mean: 0.94167, std: 0.07500, params: {'C': 0.30000000000000004, 'degree': 6, 'gamma': 0.05, 'kernel': 'poly'}, mean: 0.76667, std: 0.12247, params: {'C': 0.4, 'degree': 4, 'gamma': 0.01, 'kernel': 'poly'}, mean: 0.93333, std: 0.06236, params: {'C': 0.4, 'degree': 4, 'gamma': 0.02, 'kernel': 'poly'}, mean: 0.95833, std: 0.07683, params: {'C': 0.4, 'degree': 4, 'gamma': 0.03, 'kernel': 'poly'}, mean: 0.95833, std: 0.05590, params: {'C': 0.4, 'degree': 4, 'gamma': 0.04, 'kernel': 'poly'}, mean: 0.95833, std: 0.05590, params: {'C': 0.4, 'degree': 4, 'gamma': 0.05, 'kernel': 'poly'}, mean: 0.68333, std: 0.11667, params: {'C': 0.4, 'degree': 5, 'gamma': 0.01, 'kernel': 'poly'}, mean: 0.93333, std: 0.07265, params: {'C': 0.4, 'degree': 5, 'gamma': 0.02, 'kernel': 'poly'}, mean: 0.95833, std: 0.05590, params: {'C': 0.4, 'degree': 5, 'gamma': 0.03, 'kernel': 'poly'}, mean: 0.94167, std: 0.08375, params: {'C': 0.4, 'degree': 5, 'gamma': 0.04, 'kernel': 'poly'}, mean: 0.95833, std: 0.05590, params: {'C': 0.4, 'degree': 5, 'gamma': 0.05, 'kernel': 'poly'}, mean: 0.67500, std: 0.12047, params: {'C': 0.4, 'degree': 6, 'gamma': 0.01, 'kernel': 'poly'}, mean: 0.91667, std: 0.08333, params: {'C': 0.4, 'degree': 6, 'gamma': 0.02, 'kernel': 'poly'}, mean: 0.94167, std: 0.08375, params: {'C': 0.4, 'degree': 6, 'gamma': 0.03, 'kernel': 'poly'}, mean: 0.94167, std: 0.08375, params: {'C': 0.4, 'degree': 6, 'gamma': 0.04, 'kernel': 'poly'}, mean: 0.95000, std: 0.05528, params: {'C': 0.4, 'degree': 6, 'gamma': 0.05, 'kernel': 'poly'}, mean: 0.77500, std: 0.13463, params: {'C': 0.5, 'degree': 4, 'gamma': 0.01, 'kernel': 'poly'}, mean: 0.95000, std: 0.05528, params: {'C': 0.5, 'degree': 4, 'gamma': 0.02, 'kernel': 'poly'}, mean: 0.96667, std: 0.05528, params: {'C': 0.5, 'degree': 4, 'gamma': 0.03, 'kernel': 'poly'}, mean: 0.95000, std: 0.07638, params: {'C': 0.5, 'degree': 4, 'gamma': 0.04, 'kernel': 'poly'}, mean: 0.95000, std: 0.06667, params: {'C': 0.5, 'degree': 4, 'gamma': 0.05, 'kernel': 'poly'}, mean: 0.70000, std: 0.13017, params: {'C': 0.5, 'degree': 5, 'gamma': 0.01, 'kernel': 'poly'}, mean: 0.93333, std: 0.08165, params: {'C': 0.5, 'degree': 5, 'gamma': 0.02, 'kernel': 'poly'}, mean: 0.95833, std: 0.05590, params: {'C': 0.5, 'degree': 5, 'gamma': 0.03, 'kernel': 'poly'}, mean: 0.94167, std: 0.08375, params: {'C': 0.5, 'degree': 5, 'gamma': 0.04, 'kernel': 'poly'}, mean: 0.95000, std: 0.07638, params: {'C': 0.5, 'degree': 5, 'gamma': 0.05, 'kernel': 'poly'}, mean: 0.70000, std: 0.12472, params: {'C': 0.5, 'degree': 6, 'gamma': 0.01, 'kernel': 'poly'}, mean: 0.91667, std: 0.08333, params: {'C': 0.5, 'degree': 6, 'gamma': 0.02, 'kernel': 'poly'}, mean: 0.94167, std: 0.08375, params: {'C': 0.5, 'degree': 6, 'gamma': 0.03, 'kernel': 'poly'}, mean: 0.95000, std: 0.07638, params: {'C': 0.5, 'degree': 6, 'gamma': 0.04, 'kernel': 'poly'}, mean: 0.95000, std: 0.05528, params: {'C': 0.5, 'degree': 6, 'gamma': 0.05, 'kernel': 'poly'}, mean: 0.78333, std: 0.12472, params: {'C': 0.6, 'degree': 4, 'gamma': 0.01, 'kernel': 'poly'}, mean: 0.95833, std: 0.05590, params: {'C': 0.6, 'degree': 4, 'gamma': 0.02, 'kernel': 'poly'}, mean: 0.96667, std: 0.05528, params: {'C': 0.6, 'degree': 4, 'gamma': 0.03, 'kernel': 'poly'}, mean: 0.95833, std: 0.05590, params: {'C': 0.6, 'degree': 4, 'gamma': 0.04, 'kernel': 'poly'}, mean: 0.95000, std: 0.06667, params: {'C': 0.6, 'degree': 4, 'gamma': 0.05, 'kernel': 'poly'}, mean: 0.76667, std: 0.12247, params: {'C': 0.6, 'degree': 5, 'gamma': 0.01, 'kernel': 'poly'}, mean: 0.94167, std: 0.07500, params: {'C': 0.6, 'degree': 5, 'gamma': 0.02, 'kernel': 'poly'}, mean: 0.94167, std: 0.08375, params: {'C': 0.6, 'degree': 5, 'gamma': 0.03, 'kernel': 'poly'}, mean: 0.94167, std: 0.08375, params: {'C': 0.6, 'degree': 5, 'gamma': 0.04, 'kernel': 'poly'}, mean: 0.95000, std: 0.07638, params: {'C': 0.6, 'degree': 5, 'gamma': 0.05, 'kernel': 'poly'}, mean: 0.69167, std: 0.11211, params: {'C': 0.6, 'degree': 6, 'gamma': 0.01, 'kernel': 'poly'}, mean: 0.92500, std: 0.08700, params: {'C': 0.6, 'degree': 6, 'gamma': 0.02, 'kernel': 'poly'}, mean: 0.94167, std: 0.08375, params: {'C': 0.6, 'degree': 6, 'gamma': 0.03, 'kernel': 'poly'}, mean: 0.95000, std: 0.07638, params: {'C': 0.6, 'degree': 6, 'gamma': 0.04, 'kernel': 'poly'}, mean: 0.95000, std: 0.05528, params: {'C': 0.6, 'degree': 6, 'gamma': 0.05, 'kernel': 'poly'}, mean: 0.79167, std: 0.11932, params: {'C': 0.7000000000000001, 'degree': 4, 'gamma': 0.01, 'kernel': 'poly'}, mean: 0.95833, std: 0.05590, params: {'C': 0.7000000000000001, 'degree': 4, 'gamma': 0.02, 'kernel': 'poly'}, mean: 0.95833, std: 0.05590, params: {'C': 0.7000000000000001, 'degree': 4, 'gamma': 0.03, 'kernel': 'poly'}, mean: 0.95833, std: 0.05590, params: {'C': 0.7000000000000001, 'degree': 4, 'gamma': 0.04, 'kernel': 'poly'}, mean: 0.95000, std: 0.06667, params: {'C': 0.7000000000000001, 'degree': 4, 'gamma': 0.05, 'kernel': 'poly'}, mean: 0.76667, std: 0.12247, params: {'C': 0.7000000000000001, 'degree': 5, 'gamma': 0.01, 'kernel': 'poly'}, mean: 0.95000, std: 0.07638, params: {'C': 0.7000000000000001, 'degree': 5, 'gamma': 0.02, 'kernel': 'poly'}, mean: 0.95833, std: 0.05590, params: {'C': 0.7000000000000001, 'degree': 5, 'gamma': 0.03, 'kernel': 'poly'}, mean: 0.95000, std: 0.07638, params: {'C': 0.7000000000000001, 'degree': 5, 'gamma': 0.04, 'kernel': 'poly'}, mean: 0.95000, std: 0.07638, params: {'C': 0.7000000000000001, 'degree': 5, 'gamma': 0.05, 'kernel': 'poly'}, mean: 0.70000, std: 0.13017, params: {'C': 0.7000000000000001, 'degree': 6, 'gamma': 0.01, 'kernel': 'poly'}, mean: 0.93333, std: 0.07265, params: {'C': 0.7000000000000001, 'degree': 6, 'gamma': 0.02, 'kernel': 'poly'}, mean: 0.94167, std: 0.08375, params: {'C': 0.7000000000000001, 'degree': 6, 'gamma': 0.03, 'kernel': 'poly'}, mean: 0.94167, std: 0.07500, params: {'C': 0.7000000000000001, 'degree': 6, 'gamma': 0.04, 'kernel': 'poly'}, mean: 0.95000, std: 0.05528, params: {'C': 0.7000000000000001, 'degree': 6, 'gamma': 0.05, 'kernel': 'poly'}, mean: 0.80833, std: 0.11815, params: {'C': 0.8, 'degree': 4, 'gamma': 0.01, 'kernel': 'poly'}, mean: 0.95833, std: 0.05590, params: {'C': 0.8, 'degree': 4, 'gamma': 0.02, 'kernel': 'poly'}, mean: 0.95833, std: 0.05590, params: {'C': 0.8, 'degree': 4, 'gamma': 0.03, 'kernel': 'poly'}, mean: 0.95000, std: 0.07638, params: {'C': 0.8, 'degree': 4, 'gamma': 0.04, 'kernel': 'poly'}, mean: 0.95833, std: 0.05590, params: {'C': 0.8, 'degree': 4, 'gamma': 0.05, 'kernel': 'poly'}, mean: 0.77500, std: 0.13463, params: {'C': 0.8, 'degree': 5, 'gamma': 0.01, 'kernel': 'poly'}, mean: 0.94167, std: 0.07500, params: {'C': 0.8, 'degree': 5, 'gamma': 0.02, 'kernel': 'poly'}, mean: 0.95833, std: 0.05590, params: {'C': 0.8, 'degree': 5, 'gamma': 0.03, 'kernel': 'poly'}, mean: 0.95000, std: 0.07638, params: {'C': 0.8, 'degree': 5, 'gamma': 0.04, 'kernel': 'poly'}, mean: 0.94167, std: 0.07500, params: {'C': 0.8, 'degree': 5, 'gamma': 0.05, 'kernel': 'poly'}, mean: 0.70833, std: 0.13044, params: {'C': 0.8, 'degree': 6, 'gamma': 0.01, 'kernel': 'poly'}, mean: 0.93333, std: 0.07265, params: {'C': 0.8, 'degree': 6, 'gamma': 0.02, 'kernel': 'poly'}, mean: 0.94167, std: 0.08375, params: {'C': 0.8, 'degree': 6, 'gamma': 0.03, 'kernel': 'poly'}, mean: 0.94167, std: 0.07500, params: {'C': 0.8, 'degree': 6, 'gamma': 0.04, 'kernel': 'poly'}, mean: 0.95000, std: 0.05528, params: {'C': 0.8, 'degree': 6, 'gamma': 0.05, 'kernel': 'poly'}, mean: 0.80833, std: 0.13463, params: {'C': 0.9, 'degree': 4, 'gamma': 0.01, 'kernel': 'poly'}, mean: 0.95833, std: 0.07683, params: {'C': 0.9, 'degree': 4, 'gamma': 0.02, 'kernel': 'poly'}, mean: 0.95833, std: 0.05590, params: {'C': 0.9, 'degree': 4, 'gamma': 0.03, 'kernel': 'poly'}, mean: 0.95833, std: 0.05590, params: {'C': 0.9, 'degree': 4, 'gamma': 0.04, 'kernel': 'poly'}, mean: 0.95833, std: 0.05590, params: {'C': 0.9, 'degree': 4, 'gamma': 0.05, 'kernel': 'poly'}, mean: 0.77500, std: 0.13463, params: {'C': 0.9, 'degree': 5, 'gamma': 0.01, 'kernel': 'poly'}, mean: 0.94167, std: 0.07500, params: {'C': 0.9, 'degree': 5, 'gamma': 0.02, 'kernel': 'poly'}, mean: 0.95000, std: 0.07638, params: {'C': 0.9, 'degree': 5, 'gamma': 0.03, 'kernel': 'poly'}, mean: 0.95000, std: 0.07638, params: {'C': 0.9, 'degree': 5, 'gamma': 0.04, 'kernel': 'poly'}, mean: 0.94167, std: 0.07500, params: {'C': 0.9, 'degree': 5, 'gamma': 0.05, 'kernel': 'poly'}, mean: 0.72500, std: 0.12388, params: {'C': 0.9, 'degree': 6, 'gamma': 0.01, 'kernel': 'poly'}, mean: 0.93333, std: 0.07265, params: {'C': 0.9, 'degree': 6, 'gamma': 0.02, 'kernel': 'poly'}, mean: 0.94167, std: 0.08375, params: {'C': 0.9, 'degree': 6, 'gamma': 0.03, 'kernel': 'poly'}, mean: 0.94167, std: 0.07500, params: {'C': 0.9, 'degree': 6, 'gamma': 0.04, 'kernel': 'poly'}, mean: 0.95000, std: 0.05528, params: {'C': 0.9, 'degree': 6, 'gamma': 0.05, 'kernel': 'poly'}]\n"
     ]
    }
   ],
   "source": [
    "print(model_svm.grid_scores_)"
   ]
  },
  {
   "cell_type": "code",
   "execution_count": 217,
   "metadata": {
    "_uuid": "b1667681c70728914dd75c609c58cc5de626fdb9"
   },
   "outputs": [
    {
     "name": "stdout",
     "output_type": "stream",
     "text": [
      "{'C': 0.5, 'degree': 4, 'gamma': 0.03, 'kernel': 'poly'}\n"
     ]
    }
   ],
   "source": [
    "print(model_svm.best_params_)"
   ]
  },
  {
   "cell_type": "code",
   "execution_count": 218,
   "metadata": {
    "_uuid": "5592d5cf9948ced6e3f8ce5b8052f51f792aba26"
   },
   "outputs": [
    {
     "name": "stdout",
     "output_type": "stream",
     "text": [
      "1.0\n"
     ]
    }
   ],
   "source": [
    "y_pred= model_svm.predict(X_test)\n",
    "print(metrics.accuracy_score(y_pred,Y_test))"
   ]
  },
  {
   "cell_type": "markdown",
   "metadata": {},
   "source": [
    "## <a id=\"42\">4.2 Gaussian Kernel</a>"
   ]
  },
  {
   "cell_type": "code",
   "execution_count": 219,
   "metadata": {},
   "outputs": [
    {
     "name": "stdout",
     "output_type": "stream",
     "text": [
      "[1.         1.         0.86666667 0.93333333 1.         1.\n",
      " 1.         0.93333333 0.93333333 1.        ]\n"
     ]
    }
   ],
   "source": [
    "from sklearn.cross_validation import cross_val_score\n",
    "svc=SVC(kernel='rbf')\n",
    "scores = cross_val_score(svc, X, label, cv=10, scoring='accuracy') #cv is cross validation\n",
    "print(scores)"
   ]
  },
  {
   "cell_type": "code",
   "execution_count": 220,
   "metadata": {},
   "outputs": [
    {
     "name": "stdout",
     "output_type": "stream",
     "text": [
      "[Gussian Kernel] Mean accuracy :0.97\n"
     ]
    }
   ],
   "source": [
    "print(\"[Gussian Kernel] Mean accuracy :{:.2f}\".format(scores.mean()))"
   ]
  },
  {
   "cell_type": "code",
   "execution_count": 221,
   "metadata": {},
   "outputs": [
    {
     "name": "stdout",
     "output_type": "stream",
     "text": [
      "[0.95, 0.95, 0.95]\n"
     ]
    }
   ],
   "source": [
    "gamma=[0.01,0.02,0.03]\n",
    "acc_score=[]\n",
    "for g in gamma:\n",
    "    svc = SVC(kernel='rbf', gamma=d)\n",
    "    scores = cross_val_score(svc, X, label, cv=10, scoring='accuracy')\n",
    "    acc_score.append(round(scores.mean(),2))\n",
    "print(acc_score)"
   ]
  },
  {
   "cell_type": "code",
   "execution_count": 222,
   "metadata": {},
   "outputs": [
    {
     "data": {
      "text/plain": [
       "Text(0,0.5,'Cross-Validated Accuracy')"
      ]
     },
     "execution_count": 222,
     "metadata": {},
     "output_type": "execute_result"
    },
    {
     "data": {
      "image/png": "[encoded data removed]",
      "text/plain": [
       "<matplotlib.figure.Figure at 0x7f45354e6518>"
      ]
     },
     "metadata": {},
     "output_type": "display_data"
    }
   ],
   "source": [
    "\n",
    "gamma=[0.01,0.02,0.03]\n",
    "\n",
    "# plot the value of C for SVM (x-axis) versus the cross-validated accuracy (y-axis)\n",
    "plt.plot(gamma,acc_score,color='r')\n",
    "plt.xlabel('Values of gamma ')\n",
    "plt.ylabel('Cross-Validated Accuracy')"
   ]
  },
  {
   "cell_type": "markdown",
   "metadata": {},
   "source": [
    "### Hyperparameter tuning  to find the best parameter"
   ]
  },
  {
   "cell_type": "code",
   "execution_count": 223,
   "metadata": {},
   "outputs": [],
   "source": [
    "svm_model= SVC()"
   ]
  },
  {
   "cell_type": "code",
   "execution_count": 224,
   "metadata": {},
   "outputs": [],
   "source": [
    "tuned_parameters = {\n",
    "'C': (np.arange(0.1,1,0.1)) , 'gamma': [0.01,0.02,0.03,0.04,0.05], 'kernel': ['rbf'],\n",
    "                   }"
   ]
  },
  {
   "cell_type": "code",
   "execution_count": 225,
   "metadata": {},
   "outputs": [],
   "source": [
    "model_svm = GridSearchCV(svm_model, tuned_parameters,cv=10,scoring='accuracy')"
   ]
  },
  {
   "cell_type": "code",
   "execution_count": 226,
   "metadata": {},
   "outputs": [
    {
     "name": "stdout",
     "output_type": "stream",
     "text": [
      "0.9666666666666667\n"
     ]
    }
   ],
   "source": [
    "model_svm.fit(X_train, Y_train)\n",
    "print(model_svm.best_score_)"
   ]
  },
  {
   "cell_type": "code",
   "execution_count": 227,
   "metadata": {},
   "outputs": [
    {
     "name": "stdout",
     "output_type": "stream",
     "text": [
      "{'C': 0.6, 'gamma': 0.05, 'kernel': 'rbf'}\n"
     ]
    }
   ],
   "source": [
    "print(model_svm.best_params_)"
   ]
  },
  {
   "cell_type": "code",
   "execution_count": 228,
   "metadata": {},
   "outputs": [
    {
     "name": "stdout",
     "output_type": "stream",
     "text": [
      "0.9666666666666667\n"
     ]
    }
   ],
   "source": [
    "y_pred= model_svm.predict(X_test)\n",
    "print(metrics.accuracy_score(y_pred,Y_test))"
   ]
  },
  {
   "cell_type": "markdown",
   "metadata": {},
   "source": [
    "## <a id=\"43\">4.3  Sigmoidal kernel </a>"
   ]
  },
  {
   "cell_type": "code",
   "execution_count": 229,
   "metadata": {},
   "outputs": [
    {
     "name": "stdout",
     "output_type": "stream",
     "text": [
      "[0.06666667 0.         0.06666667 0.06666667 0.06666667 0.\n",
      " 0.         0.         0.33333333 0.        ]\n"
     ]
    }
   ],
   "source": [
    "svc=SVC(kernel='sigmoid')\n",
    "scores = cross_val_score(svc, X, label, cv=10, scoring='accuracy') #cv is cross validation\n",
    "print(scores)"
   ]
  },
  {
   "cell_type": "code",
   "execution_count": 230,
   "metadata": {},
   "outputs": [
    {
     "name": "stdout",
     "output_type": "stream",
     "text": [
      "[Sigmoidal Kernel] Mean accuracy :0.06\n"
     ]
    }
   ],
   "source": [
    "print(\"[Sigmoidal Kernel] Mean accuracy :{:.2f}\".format(scores.mean()))"
   ]
  },
  {
   "cell_type": "code",
   "execution_count": 231,
   "metadata": {},
   "outputs": [
    {
     "name": "stdout",
     "output_type": "stream",
     "text": [
      "[0.91, 0.82, 0.78, 0.65, 0.88, 0.65, 0.45, 0.68, 0.66]\n"
     ]
    }
   ],
   "source": [
    "gamma=[0.01,0.02,0.03]\n",
    "beta=[-1,-2,-4]\n",
    "acc_score=[]\n",
    "for g in gamma:\n",
    "    for b in beta:\n",
    "        svc = SVC(C=0.9, kernel='sigmoid', gamma=g,coef0=b)\n",
    "        scores = cross_val_score(svc, X, label, cv=10, scoring='accuracy')\n",
    "        acc_score.append(round(scores.mean(),2))\n",
    "print(acc_score)"
   ]
  },
  {
   "cell_type": "code",
   "execution_count": 232,
   "metadata": {},
   "outputs": [],
   "source": [
    "# gamma=[0.01,0.02,0.03]\n",
    "\n",
    "# # plot the value of C for SVM (x-axis) versus the cross-validated accuracy (y-axis)\n",
    "# plt.plot(gamma,acc_score,color='r')\n",
    "# plt.xlabel('Values of gamma ')\n",
    "# plt.ylabel('Cross-Validated Accuracy')"
   ]
  },
  {
   "cell_type": "markdown",
   "metadata": {},
   "source": [
    "### Hyperparameter tuning  to find the best parameter"
   ]
  },
  {
   "cell_type": "code",
   "execution_count": 233,
   "metadata": {},
   "outputs": [],
   "source": [
    "svm_model= SVC()"
   ]
  },
  {
   "cell_type": "code",
   "execution_count": 234,
   "metadata": {},
   "outputs": [],
   "source": [
    "tuned_parameters = {\n",
    "'C': (np.arange(0.1,1,0.1)) , 'coef0':[-1,-2,-3,-6,-7,-8,-9], 'gamma': [0.01,0.02,0.03,0.04,0.05], 'kernel': ['sigmoid'],\n",
    "                   }"
   ]
  },
  {
   "cell_type": "code",
   "execution_count": 235,
   "metadata": {},
   "outputs": [],
   "source": [
    "model_svm = GridSearchCV(svm_model, tuned_parameters,cv=10,scoring='accuracy')"
   ]
  },
  {
   "cell_type": "code",
   "execution_count": 236,
   "metadata": {},
   "outputs": [
    {
     "name": "stdout",
     "output_type": "stream",
     "text": [
      "0.9\n"
     ]
    }
   ],
   "source": [
    "model_svm.fit(X_train, Y_train)\n",
    "print(model_svm.best_score_)"
   ]
  },
  {
   "cell_type": "code",
   "execution_count": 237,
   "metadata": {},
   "outputs": [
    {
     "name": "stdout",
     "output_type": "stream",
     "text": [
      "{'C': 0.8, 'coef0': -1, 'gamma': 0.01, 'kernel': 'sigmoid'}\n"
     ]
    }
   ],
   "source": [
    "print(model_svm.best_params_)"
   ]
  },
  {
   "cell_type": "code",
   "execution_count": 238,
   "metadata": {},
   "outputs": [
    {
     "name": "stdout",
     "output_type": "stream",
     "text": [
      "0.9666666666666667\n"
     ]
    }
   ],
   "source": [
    "y_pred= model_svm.predict(X_test)\n",
    "print(metrics.accuracy_score(y_pred,Y_test))"
   ]
  }
 ],
 "metadata": {
  "kernelspec": {
   "display_name": "Python 3",
   "language": "python",
   "name": "python3"
  },
  "language_info": {
   "codemirror_mode": {
    "name": "ipython",
    "version": 3
   },
   "file_extension": ".py",
   "mimetype": "text/x-python",
   "name": "python",
   "nbconvert_exporter": "python",
   "pygments_lexer": "ipython3",
   "version": "3.6.3"
  }
 },
 "nbformat": 4,
 "nbformat_minor": 1
}
